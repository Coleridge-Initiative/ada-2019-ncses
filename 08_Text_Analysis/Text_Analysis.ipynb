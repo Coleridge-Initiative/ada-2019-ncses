{
 "cells": [
  {
   "cell_type": "markdown",
   "metadata": {},
   "source": [
    "<img style=\"float: center;\" src=\"images/CI_horizontal.png\" width=\"600\">\n",
    "<center>\n",
    "    <span style=\"font-size: 1.5em;\">\n",
    "        <a href='https://www.coleridgeinitiative.org'>Website</a>\n",
    "    </span>\n",
    "</center>\n",
    "\n",
    "Ghani, Rayid, Frauke Kreuter, Julia Lane, Brian Kim, Adrianne Bradford, Alex Engler, Nicolas Guetta Jeanrenaud, Graham Henke, Daniela Hochfellner, Clayton Hunter, Avishek Kumar, Jonathan Morgan, Ekaterina Levitskaya."
   ]
  },
  {
   "cell_type": "markdown",
   "metadata": {},
   "source": [
    "# Text Analysis"
   ]
  },
  {
   "cell_type": "markdown",
   "metadata": {},
   "source": [
    "Text analysis is used to extract useful information from or summarize a large amount of unstructured text stored in documents. This opens up the opportunity of using text data alongside more conventional data sources (e.g. surveys and administrative data). The goal of text analysis is to take a large corpus of complex and unstructured text data and extract important and meaningful messages in a comprehensible way. \n",
    "\n",
    "Text analysis can help with the following tasks:\n",
    "\n",
    "* **Information Retrieval**: Find relevant information in a large database, such as a systematic literature review, that would be very time-consuming for humans to do manually. \n",
    "\n",
    "* **Clustering and Text Categorization**: Summarize a large corpus of text by finding the most important phrases, using methods like topic modeling. \n",
    "\n",
    "* **Text Summarization**: Create category-sensitive text summaries of a large corpus of text. \n",
    "\n",
    "* **Machine Translation**: Translate documents from one language to another. \n",
    "\n",
    "In this notebook, we are going to analyze abstracts of grants using topic modeling to examine the content of our data and document classification to tag academic discipline in the abstracts. \n",
    "\n",
    "## Learning Outcomes\n",
    "\n",
    "In this notebook, you will...\n",
    "* Learn how to transform a corpus of text into a structured matrix format so that we can apply natural language processing (NLP) methods\n",
    "* Learn the basics and applications of topic modeling\n",
    "* Learn how to do document tagging and evaluate the results\n",
    "\n",
    " \n",
    "## Glossary of Terms\n",
    "\n",
    "Glossary of Terms:\n",
    "\n",
    "* **Corpus**: A corpus is the set of all text documents used in your analysis; for example, your corpus of text may include hundreds of research articles.\n",
    "\n",
    "* **Tokenize**: Tokenization is the process by which text is separated into meaningful terms or phrases. In English this is easy to do for individual words, as they are separated by whitespace; however, it can get more complicated to  automate determining which groups of words constitute meaningful phrases. \n",
    "\n",
    "* **Stemming**: Stemming is normalizing text by reducing all forms or conjugations of a word to the word's most basic form. In English, this can mean making a rule of removing the suffixes \"ed\" or \"ing\" from the end of all words, but it gets more complex. For example, \"to go\" is irregular, so you need to tell the algorithm that \"went\" and \"goes\" stem from a common lemma, and should be considered alternate forms of the word \"go.\"\n",
    "\n",
    "* **TF-IDF**: TF-IDF (term frequency-inverse document frequency) is an example of feature engineering where the most important words are extracted by taking into account their frequency in documents and the entire corpus of documents as a whole.\n",
    "\n",
    "* **Topic Modeling**: Topic modeling is an unsupervised learning method where groups of words that often appear together are clustered into topics. Typically, the words in one topic should be related and make sense (e.g. boat, ship, captain). Individual documents can fall under one topic or multiple topics. \n",
    "\n",
    "* **LDA**: LDA (Latent Dirichlet Allocation) is a type of probabilistic model commonly used for topic modeling. \n",
    "\n",
    "* **Stop Words**: Stop words are words that have little semantic meaning but occur very frequently, like prepositions, articles and common nouns. For example, every document (in English) will probably contain the words \"and\" and \"the\" many times. You will often remove them as part of preprocessing using a list of stop words.\n"
   ]
  },
  {
   "cell_type": "markdown",
   "metadata": {},
   "source": [
    "# Setup"
   ]
  },
  {
   "cell_type": "code",
   "execution_count": 1,
   "metadata": {},
   "outputs": [],
   "source": [
    "# database connection\n",
    "from sqlalchemy import create_engine\n",
    "\n",
    "# data manipulation\n",
    "import pandas as pd\n",
    "import numpy as np\n",
    "\n",
    "# text analysis tools\n",
    "import nltk\n",
    "from sklearn.feature_extraction.text import CountVectorizer, TfidfTransformer\n",
    "from sklearn.decomposition import LatentDirichletAllocation\n",
    "from sklearn import preprocessing\n",
    "from nltk import SnowballStemmer\n",
    "import string"
   ]
  },
  {
   "cell_type": "code",
   "execution_count": 2,
   "metadata": {},
   "outputs": [],
   "source": [
    "# Database Connection\n",
    "host = 'stuffed.adrf.info'\n",
    "DB = 'appliedda'\n",
    "\n",
    "connection_string = \"postgresql://{}/{}\".format(host, DB)\n",
    "conn = create_engine(connection_string)"
   ]
  },
  {
   "cell_type": "markdown",
   "metadata": {},
   "source": [
    "## Motivation: Grant Proposal Abstracts\n",
    "\n",
    "One of the pieces of data you have access to in this class is the NIH Federal RePORTER data, containing information about grants. In this notebook, we will use text analysis using the grant proposal abstracts in order to determine what types of topics these abstracts are about. Note that we do not have a pre-compiled list of topics that we are matching to the abstracts. Instead, we want to explore the data and use unsupervised learning in order to generate the topics.\n",
    "\n",
    "### Load the Data\n",
    "\n",
    "To start, we'll load the data into a pandas DataFrame from the database. We will be analyzing the abstracts of grant proposals. For demonstration purposes of this class we will only use year 2015 and we will load 2,000 abstracts (in order to be able to run the model faster in class, but you can load the full dataset in your own time, to look at the results). "
   ]
  },
  {
   "cell_type": "code",
   "execution_count": 3,
   "metadata": {},
   "outputs": [],
   "source": [
    "# Load data into dataframe\n",
    "query = '''\n",
    "SELECT *\n",
    "FROM ada_ncses_2019.nih_fedreporter_grants\n",
    "LIMIT 2000\n",
    "'''\n",
    "abstracts = pd.read_sql(query,conn)"
   ]
  },
  {
   "cell_type": "markdown",
   "metadata": {},
   "source": [
    "## Explore the Data\n",
    "Our text data table has 2 fields:\n",
    "\n",
    "- `project_id` - project ID.\n",
    "- `abstract` - text of abstract.\n",
    "\n",
    "Let's take a look at examples of the values:"
   ]
  },
  {
   "cell_type": "code",
   "execution_count": 4,
   "metadata": {},
   "outputs": [
    {
     "data": {
      "text/html": [
       "<div>\n",
       "<style scoped>\n",
       "    .dataframe tbody tr th:only-of-type {\n",
       "        vertical-align: middle;\n",
       "    }\n",
       "\n",
       "    .dataframe tbody tr th {\n",
       "        vertical-align: top;\n",
       "    }\n",
       "\n",
       "    .dataframe thead th {\n",
       "        text-align: right;\n",
       "    }\n",
       "</style>\n",
       "<table border=\"1\" class=\"dataframe\">\n",
       "  <thead>\n",
       "    <tr style=\"text-align: right;\">\n",
       "      <th></th>\n",
       "      <th>project_id</th>\n",
       "      <th>abstract</th>\n",
       "    </tr>\n",
       "  </thead>\n",
       "  <tbody>\n",
       "    <tr>\n",
       "      <td>0</td>\n",
       "      <td>725546</td>\n",
       "      <td>DESCRIPTION (provided by applicant): Tradition...</td>\n",
       "    </tr>\n",
       "    <tr>\n",
       "      <td>1</td>\n",
       "      <td>725600</td>\n",
       "      <td>DESCRIPTION (provided by applicant): Fungal in...</td>\n",
       "    </tr>\n",
       "    <tr>\n",
       "      <td>2</td>\n",
       "      <td>725601</td>\n",
       "      <td>DESCRIPTION (provided by applicant): The overa...</td>\n",
       "    </tr>\n",
       "    <tr>\n",
       "      <td>3</td>\n",
       "      <td>725608</td>\n",
       "      <td>DESCRIPTION (provided by applicant): Death fro...</td>\n",
       "    </tr>\n",
       "    <tr>\n",
       "      <td>4</td>\n",
       "      <td>725657</td>\n",
       "      <td>Dopamine is important for the rewarding and re...</td>\n",
       "    </tr>\n",
       "  </tbody>\n",
       "</table>\n",
       "</div>"
      ],
      "text/plain": [
       "  project_id                                           abstract\n",
       "0     725546  DESCRIPTION (provided by applicant): Tradition...\n",
       "1     725600  DESCRIPTION (provided by applicant): Fungal in...\n",
       "2     725601  DESCRIPTION (provided by applicant): The overa...\n",
       "3     725608  DESCRIPTION (provided by applicant): Death fro...\n",
       "4     725657  Dopamine is important for the rewarding and re..."
      ]
     },
     "execution_count": 4,
     "metadata": {},
     "output_type": "execute_result"
    }
   ],
   "source": [
    "abstracts.head()"
   ]
  },
  {
   "cell_type": "markdown",
   "metadata": {},
   "source": [
    "We will save the values of the column `abstract` to a list."
   ]
  },
  {
   "cell_type": "code",
   "execution_count": 6,
   "metadata": {},
   "outputs": [],
   "source": [
    "abstracts_list = abstracts['abstract'].values.tolist()"
   ]
  },
  {
   "cell_type": "code",
   "execution_count": 8,
   "metadata": {},
   "outputs": [
    {
     "data": {
      "text/plain": [
       "'DESCRIPTION (provided by applicant): Traditional protein site-directed mutagenesis has served biochemists for many years but is lacking when one seeks to construct libraries of mutants such as in alanine scanning. In protein engineering experiments, protein libraries are redundant mixtures requiring more screening or selection than would be necessary from a  perfect  mixture. This proposal seeks to create a simple, fast, and effective way to perform scanning codon mutagenesis throughout any protein coding sequence. Coupled with a reading frame selection, this will allow the rapid production of collections of proteins that contain substitutions of a defined set of amino acids, including those that contain unnatural functional groups. The proposed studies will i)develop a Mu transposon-based method for the random insertion and deletion of in-frame codon mutations from an open reading frame, ii) verify this methodology by performing whole-gene alanine scanning on an a counterselectable enzyme expressed in E. coli iii) generate a series of  smart  2-lactamase enzyme libraries which are rich in disulfide bonds or charged amino acids and screen those libraries for improved thermostablity, and iv)use this technology to singly incorporate photo-crosslinking amino acids at every possible position throughout a multi-protein complex allowing subsequent analysis by mass-spectroscopy. PUBLIC HEALTH RELEVENCE: This proposal will develop new protein engineering technology that provides access to improved biocatalysts and therapeutic proteins. Furthermore it will provide a tool for structure-function studies on large protein complexes and membrane proteins, both of which are difficult to study using currently available methods.'"
      ]
     },
     "execution_count": 8,
     "metadata": {},
     "output_type": "execute_result"
    }
   ],
   "source": [
    "#look at first abstract\n",
    "abstracts_list[0]"
   ]
  },
  {
   "cell_type": "markdown",
   "metadata": {},
   "source": [
    "## Topic Modeling\n",
    "We are going to apply topic modeling, an unsupervised learning method, to our corpus to find the high-level topics in our corpus. Through this process, we'll discuss how to clean and preprocess our data to get the best results. Topic modeling is a broad subfield of machine learning and natural language processing. We are going to focus on a common modeling approach called Latent Dirichlet Allocation (LDA).\n",
    "\n",
    "To use topic modeling, we first have to assume that topics exist in our corpus, and that some small number of these topics can \"explain\" the corpus. Topics in this context refer to words from the corpus, in a list that is ranked by probability. A single document can be explained by multiple topics. For instance, an article on net neutrality would fall under the topic \"technology\" as well as the topic \"politics\". The set of topics used by a document is known as the document's allocation, hence, the name Latent Dirichlet Allocation, each document has an allocation of latent topics allocated by Dirichlet distribution. Latent (or hidden) stands for topics in the documents that are existing but not yet developed or manifest and which can be discovered based on observed data, such as words in the documents. Dirichlet refers to distributions that are taken into account when creating topics: a distribution of words in the topic (which words are more or less probable to belong to a given topic) and a distribution of topics in documents (which topic is more or less probable for a given document). \n",
    "\n",
    "We will use topic modeling in order to determine what types of research is done based on the grants' abstracts."
   ]
  },
  {
   "cell_type": "markdown",
   "metadata": {},
   "source": [
    "LDA model takes as input a corpus (a collection of text documents). Every text document is tokenized to become a sequence of words (tokens). All unique words across a given corpus are saved as a vocabulary. Text documents are then converted to a matrix of token counts (how often a given unique word from a vocabulary appears in a given text document), e.g.:\n",
    "\n",
    "|doc# / unique words | 'science' | 'research' | 'cell' | 'DNA' | 'gene' |\n",
    "|-----------|--------|---------|-------|-------|------|\n",
    "|document 1 |    0   |    0    |   1   |   5   |  7   |\n",
    "|document 2 |    1   |    2    |   0   |   1   |  0   |\n",
    "|document 3 |    1   |    5    |   2   |   0   |  0   |\n",
    "\n",
    "\n",
    "The LDA model finds the probability of a word appearing in a given topic, and then maps a probability of a topic being assigned to a given document."
   ]
  },
  {
   "cell_type": "markdown",
   "metadata": {},
   "source": [
    "### Preparing Text Data for Natural Language Processing (NLP)\n",
    "\n",
    "The first important step in working with text data is cleaning and processing the data, which includes (but is not limited to):\n",
    "- forming a corpus of text\n",
    "- stemming and lemmatization\n",
    "- tokenization\n",
    "- removing stopwords\n",
    "- finding words co-located together (N-grams)\n",
    "\n",
    "The ultimate goal is to transform our text data into a form an algorithm can work with, because a document or a corpus of text cannot be fed directly into an algorithm. Algorithms expect numerical feature vectors with certain fixed sizes, and can't handle documents, which are basically sequences of symbols with variable length. We will be transforming our text corpus into a _bag of n-grams_ to be further analyzed. In this form our text data is represented as a matrix where each row refers to a specific job description (document) and each column is the occurence of a word (feature)."
   ]
  },
  {
   "cell_type": "markdown",
   "metadata": {},
   "source": [
    "### Stemming and Lemmatization - Distilling text data"
   ]
  },
  {
   "cell_type": "markdown",
   "metadata": {},
   "source": [
    "We want to process our text through _stemming and lemmatization_, or replacing words with their root or simplest form. For example, \"systems\", \"systematic\", and \"system\" are all different words, but we can replace all these words with \"system\" without sacrificing much meaning. \n",
    "- A **lemma** is the original dictionary form of a word (e.g. the lemma for \"lies\", \"lied\", and \"lying\" is \"lie\").\n",
    "- The process of turning a word into its simplest form is **stemming**. There are several well-known stemming algorithms -- Porter, Snowball, Lancaster - that all have their respective strengths and weaknesses.\n",
    "\n",
    "In this notebook, we will use the Snowball Stemmer:"
   ]
  },
  {
   "cell_type": "code",
   "execution_count": 9,
   "metadata": {},
   "outputs": [
    {
     "name": "stdout",
     "output_type": "stream",
     "text": [
      "lie\n",
      "lie\n",
      "systemat\n",
      "run\n"
     ]
    }
   ],
   "source": [
    "# Examples of how a Stemmer works:\n",
    "stemmer = SnowballStemmer(\"english\")\n",
    "print(stemmer.stem('lies'))\n",
    "print(stemmer.stem('lying'))\n",
    "print(stemmer.stem('systematic'))\n",
    "print(stemmer.stem('running'))"
   ]
  },
  {
   "cell_type": "markdown",
   "metadata": {},
   "source": [
    "### Removing Punctuation"
   ]
  },
  {
   "cell_type": "markdown",
   "metadata": {},
   "source": [
    "For some purposes, we might want to preserve punctuation. For example, if we wanted to be able to detect sentiment of text, we might want to keep exclamation points, because they signify something about the text. For our purposes, however, we will simply strip the punctuation so that it does not affect our analysis. To do this, we use `string` package, creating a translator that takes any string and \"translates\" it into a string without any punctuation."
   ]
  },
  {
   "cell_type": "markdown",
   "metadata": {},
   "source": [
    "An example using the first abstract in our corpus is shown below."
   ]
  },
  {
   "cell_type": "code",
   "execution_count": 11,
   "metadata": {},
   "outputs": [
    {
     "data": {
      "text/plain": [
       "'DESCRIPTION (provided by applicant): Traditional protein site-directed mutagenesis has served biochemists for many years but is lacking when one seeks to construct libraries of mutants such as in alanine scanning. In protein engineering experiments, protein libraries are redundant mixtures requiring more screening or selection than would be necessary from a  perfect  mixture. This proposal seeks to create a simple, fast, and effective way to perform scanning codon mutagenesis throughout any protein coding sequence. Coupled with a reading frame selection, this will allow the rapid production of collections of proteins that contain substitutions of a defined set of amino acids, including those that contain unnatural functional groups. The proposed studies will i)develop a Mu transposon-based method for the random insertion and deletion of in-frame codon mutations from an open reading frame, ii) verify this methodology by performing whole-gene alanine scanning on an a counterselectable enzyme expressed in E. coli iii) generate a series of  smart  2-lactamase enzyme libraries which are rich in disulfide bonds or charged amino acids and screen those libraries for improved thermostablity, and iv)use this technology to singly incorporate photo-crosslinking amino acids at every possible position throughout a multi-protein complex allowing subsequent analysis by mass-spectroscopy. PUBLIC HEALTH RELEVENCE: This proposal will develop new protein engineering technology that provides access to improved biocatalysts and therapeutic proteins. Furthermore it will provide a tool for structure-function studies on large protein complexes and membrane proteins, both of which are difficult to study using currently available methods.'"
      ]
     },
     "execution_count": 11,
     "metadata": {},
     "output_type": "execute_result"
    }
   ],
   "source": [
    "# Before\n",
    "abstracts_list[0]"
   ]
  },
  {
   "cell_type": "code",
   "execution_count": 12,
   "metadata": {},
   "outputs": [],
   "source": [
    "# Create translator that replaces punctuation with empty spaces\n",
    "translator = str.maketrans(string.punctuation, ' ' * len(string.punctuation))"
   ]
  },
  {
   "cell_type": "code",
   "execution_count": 13,
   "metadata": {},
   "outputs": [
    {
     "data": {
      "text/plain": [
       "'!\"#$%&\\'()*+,-./:;<=>?@[\\\\]^_`{|}~'"
      ]
     },
     "execution_count": 13,
     "metadata": {},
     "output_type": "execute_result"
    }
   ],
   "source": [
    "string.punctuation"
   ]
  },
  {
   "cell_type": "code",
   "execution_count": 14,
   "metadata": {},
   "outputs": [
    {
     "data": {
      "text/plain": [
       "'DESCRIPTION  provided by applicant   Traditional protein site directed mutagenesis has served biochemists for many years but is lacking when one seeks to construct libraries of mutants such as in alanine scanning  In protein engineering experiments  protein libraries are redundant mixtures requiring more screening or selection than would be necessary from a  perfect  mixture  This proposal seeks to create a simple  fast  and effective way to perform scanning codon mutagenesis throughout any protein coding sequence  Coupled with a reading frame selection  this will allow the rapid production of collections of proteins that contain substitutions of a defined set of amino acids  including those that contain unnatural functional groups  The proposed studies will i develop a Mu transposon based method for the random insertion and deletion of in frame codon mutations from an open reading frame  ii  verify this methodology by performing whole gene alanine scanning on an a counterselectable enzyme expressed in E  coli iii  generate a series of  smart  2 lactamase enzyme libraries which are rich in disulfide bonds or charged amino acids and screen those libraries for improved thermostablity  and iv use this technology to singly incorporate photo crosslinking amino acids at every possible position throughout a multi protein complex allowing subsequent analysis by mass spectroscopy  PUBLIC HEALTH RELEVENCE  This proposal will develop new protein engineering technology that provides access to improved biocatalysts and therapeutic proteins  Furthermore it will provide a tool for structure function studies on large protein complexes and membrane proteins  both of which are difficult to study using currently available methods '"
      ]
     },
     "execution_count": 14,
     "metadata": {},
     "output_type": "execute_result"
    }
   ],
   "source": [
    "# After\n",
    "abstracts_list[0].translate(translator)"
   ]
  },
  {
   "cell_type": "markdown",
   "metadata": {},
   "source": [
    "### Tokenizing"
   ]
  },
  {
   "cell_type": "markdown",
   "metadata": {},
   "source": [
    "We want to separate text into individual tokens (generally individual words). To do this, we will first write a function that takes a string and splits it up into individual words."
   ]
  },
  {
   "cell_type": "markdown",
   "metadata": {},
   "source": [
    "To tokenize, we will use a `.split()` function."
   ]
  },
  {
   "cell_type": "code",
   "execution_count": 15,
   "metadata": {},
   "outputs": [
    {
     "data": {
      "text/plain": [
       "['DESCRIPTION',\n",
       " '(provided',\n",
       " 'by',\n",
       " 'applicant):',\n",
       " 'Traditional',\n",
       " 'protein',\n",
       " 'site-directed',\n",
       " 'mutagenesis',\n",
       " 'has',\n",
       " 'served']"
      ]
     },
     "execution_count": 15,
     "metadata": {},
     "output_type": "execute_result"
    }
   ],
   "source": [
    "abstracts_list[0].split()[:10]"
   ]
  },
  {
   "cell_type": "markdown",
   "metadata": {},
   "source": [
    "We will do the whole process of removing punctuation, stemming, and tokenizing all in one function."
   ]
  },
  {
   "cell_type": "code",
   "execution_count": 16,
   "metadata": {},
   "outputs": [],
   "source": [
    "def tokenize(text):\n",
    "    translator = str.maketrans(string.punctuation, ' ' * len(string.punctuation))  # translator that replaces punctuation with empty spaces\n",
    "    return [stemmer.stem(i) for i in text.translate(translator).split()]  # stemmer and tokenizing into words"
   ]
  },
  {
   "cell_type": "markdown",
   "metadata": {},
   "source": [
    "The `tokenize` function actually does several things at the same time. First, it removes any punctuation using the `translate` method. Then, the `split` method breaks it apart into individual words. Then, using `stemmer.stem`, it creates a list of the stemmed versions of each of those individual words."
   ]
  },
  {
   "cell_type": "markdown",
   "metadata": {},
   "source": [
    "Let's take a look at an example of how this works using the first abstract in our corpus."
   ]
  },
  {
   "cell_type": "code",
   "execution_count": 17,
   "metadata": {},
   "outputs": [
    {
     "data": {
      "text/plain": [
       "['descript',\n",
       " 'provid',\n",
       " 'by',\n",
       " 'applic',\n",
       " 'tradit',\n",
       " 'protein',\n",
       " 'site',\n",
       " 'direct',\n",
       " 'mutagenesi',\n",
       " 'has',\n",
       " 'serv',\n",
       " 'biochemist',\n",
       " 'for',\n",
       " 'mani',\n",
       " 'year',\n",
       " 'but',\n",
       " 'is',\n",
       " 'lack',\n",
       " 'when',\n",
       " 'one']"
      ]
     },
     "execution_count": 17,
     "metadata": {},
     "output_type": "execute_result"
    }
   ],
   "source": [
    "tokenize(abstracts_list[0])[:20]"
   ]
  },
  {
   "cell_type": "markdown",
   "metadata": {},
   "source": [
    "What we get out of it is something called a **bag of words**. This is a list of all of the words that are in the abstract, cleaned of all punctuation and stemmed. The paragraph is now represented as as vector of individual words rather than as one whole entity."
   ]
  },
  {
   "cell_type": "markdown",
   "metadata": {},
   "source": [
    "We can apply this to each abstract in our corpus using `CountVectorizer`. This will not only do the tokenizing, but it will also count any duplicates of words and create a matrix that contains the frequency of each word. This will be quite a large matrix (number of columns will be number of unique words), so it outputs the data as a sparse matrix."
   ]
  },
  {
   "cell_type": "markdown",
   "metadata": {},
   "source": [
    "Similar to how we fit models using `sklearn`, we will first create the `vectorizer` object (you can think of this like a model object), and then fit it with our abstracts. This should give us back our overall corpus bag of words, as well as a list of features (that is, the unique words in all the abstracts)."
   ]
  },
  {
   "cell_type": "code",
   "execution_count": 18,
   "metadata": {},
   "outputs": [],
   "source": [
    "vectorizer = CountVectorizer(analyzer=\"word\",        # unit of features are single words rather than characters\n",
    "                            tokenizer=tokenize,      # function to create tokens\n",
    "                            ngram_range=(0,1),       # unigrams - single words\n",
    "                            strip_accents='unicode', # remove accent characters\n",
    "                            min_df = 0.05,           # only include words with minimum frequency of 0.05\n",
    "                            max_df = 0.95)           # only include words with maximum frequency of 0.95"
   ]
  },
  {
   "cell_type": "code",
   "execution_count": 19,
   "metadata": {},
   "outputs": [],
   "source": [
    "bag_of_words = vectorizer.fit_transform(abstracts_list)  # transform our corpus as a bag of words\n",
    "features = vectorizer.get_feature_names()"
   ]
  },
  {
   "cell_type": "markdown",
   "metadata": {},
   "source": [
    "Let's print some of these objects to get an idea of what they look like. We'll just try printing the first row of the `bag_of_words` matrix as well as the feature names (that is, the column names). Note that because this matrix can get quite large and be quite sparse, the data are stored in a slightly different format, and so the output will look a little different from what you might be used to."
   ]
  },
  {
   "cell_type": "code",
   "execution_count": 20,
   "metadata": {},
   "outputs": [
    {
     "name": "stdout",
     "output_type": "stream",
     "text": [
      "  (0, 171)\t1\n",
      "  (0, 508)\t3\n",
      "  (0, 94)\t3\n",
      "  (0, 52)\t1\n",
      "  (0, 507)\t10\n",
      "  (0, 580)\t1\n",
      "  (0, 182)\t1\n",
      "  (0, 280)\t1\n",
      "  (0, 567)\t1\n",
      "  (0, 251)\t4\n",
      "  (0, 375)\t1\n",
      "  (0, 701)\t1\n",
      "  (0, 93)\t1\n",
      "  (0, 339)\t1\n",
      "  (0, 348)\t1\n",
      "  (0, 688)\t1\n",
      "  (0, 437)\t1\n",
      "  (0, 562)\t2\n",
      "  (0, 410)\t1\n",
      "  (0, 603)\t1\n",
      "  (0, 58)\t1\n",
      "  (0, 216)\t2\n",
      "  (0, 232)\t1\n",
      "  (0, 55)\t3\n",
      "  (0, 538)\t1\n",
      "  :\t:\n",
      "  (0, 669)\t2\n",
      "  (0, 617)\t2\n",
      "  (0, 579)\t1\n",
      "  (0, 64)\t1\n",
      "  (0, 479)\t1\n",
      "  (0, 478)\t1\n",
      "  (0, 408)\t1\n",
      "  (0, 132)\t2\n",
      "  (0, 600)\t1\n",
      "  (0, 45)\t1\n",
      "  (0, 509)\t1\n",
      "  (0, 282)\t1\n",
      "  (0, 532)\t1\n",
      "  (0, 420)\t1\n",
      "  (0, 12)\t1\n",
      "  (0, 625)\t1\n",
      "  (0, 262)\t1\n",
      "  (0, 342)\t1\n",
      "  (0, 643)\t1\n",
      "  (0, 597)\t1\n",
      "  (0, 349)\t1\n",
      "  (0, 386)\t1\n",
      "  (0, 89)\t1\n",
      "  (0, 156)\t1\n",
      "  (0, 65)\t1\n"
     ]
    }
   ],
   "source": [
    "print(bag_of_words[0])"
   ]
  },
  {
   "cell_type": "code",
   "execution_count": 21,
   "metadata": {},
   "outputs": [
    {
     "data": {
      "text/plain": [
       "['abnorm',\n",
       " 'about',\n",
       " 'access',\n",
       " 'accomplish',\n",
       " 'achiev',\n",
       " 'acid',\n",
       " 'acquir',\n",
       " 'across',\n",
       " 'act',\n",
       " 'action',\n",
       " 'activ',\n",
       " 'acut',\n",
       " 'adapt',\n",
       " 'addit',\n",
       " 'address',\n",
       " 'administr',\n",
       " 'adult',\n",
       " 'advanc',\n",
       " 'affect',\n",
       " 'after']"
      ]
     },
     "execution_count": 21,
     "metadata": {},
     "output_type": "execute_result"
    }
   ],
   "source": [
    "features[10:30]"
   ]
  },
  {
   "cell_type": "markdown",
   "metadata": {},
   "source": [
    "Now that we have our bag of words, we can start using for models such as Latent Dirichlet Allocation."
   ]
  },
  {
   "cell_type": "markdown",
   "metadata": {},
   "source": [
    "## Latent Dirichlet Allocation"
   ]
  },
  {
   "cell_type": "markdown",
   "metadata": {},
   "source": [
    "Latent Dirichlet Allocation (LDA) is a statistical model that generates groups based on similarities. This is an example of an **unsupervised machine learning model**. That is, we don't have any sort of outcome variable - we are just trying to group the abstracts into rough categories."
   ]
  },
  {
   "cell_type": "markdown",
   "metadata": {},
   "source": [
    "Let's try fitting an LDA model. The way we do it is very similar to the models we have fit before from `sklearn`. We first create a `LatentDirichletAllocation` object, then fit it using our corpus bag of words."
   ]
  },
  {
   "cell_type": "code",
   "execution_count": 22,
   "metadata": {},
   "outputs": [],
   "source": [
    "lda = LatentDirichletAllocation(learning_method='online')\n",
    "\n",
    "doctopic = lda.fit_transform(bag_of_words)"
   ]
  },
  {
   "cell_type": "code",
   "execution_count": 23,
   "metadata": {},
   "outputs": [
    {
     "name": "stdout",
     "output_type": "stream",
     "text": [
      "0 cancer, tumor, dna, therapi, growth\n",
      "1 that, is, we, will, for\n",
      "2 that, is, by, will, we\n",
      "3 infect, hiv, 1, viral, virus\n",
      "4 brain, will, behavior, neuron, that\n",
      "5 for, will, be, drug, develop\n",
      "6 research, for, will, train, program\n",
      "7 will, for, with, studi, is\n",
      "8 core, project, alcohol, for, provid\n",
      "9 cell, t, immun, that, b\n"
     ]
    }
   ],
   "source": [
    "ls_keywords = []\n",
    "for i,topic in enumerate(lda.components_):\n",
    "    word_idx = np.argsort(topic)[::-1][:5]\n",
    "    keywords = ', '.join(features[i] for i in word_idx)\n",
    "    ls_keywords.append(keywords)\n",
    "    print(i, keywords)"
   ]
  },
  {
   "cell_type": "markdown",
   "metadata": {},
   "source": [
    "Not all of these look very helpful! There are way too many common words in the corpus, such as 'for', 'with', 'that' and so on. We need to remove them, because they don't actually have any interesting information about the documents."
   ]
  },
  {
   "cell_type": "markdown",
   "metadata": {},
   "source": [
    "### Removing meaningless text - Stopwords"
   ]
  },
  {
   "cell_type": "markdown",
   "metadata": {},
   "source": [
    "Stopwords are words that are found commonly throughout a text and carry little semantic meaning. Examples of common stopwords are prepositions (\"to\", \"on\", \"in\"), articles (\"the\", \"an\", \"a\"), conjunctions (\"and\", \"or\", \"but\") and common nouns. For example, the words _the_ and _of_ are totally ubiquitouus, so they won't serve as meaningful features, whether to distinguish documents from each other or to tell what a given document is about. You may also run into words that you want to remove based on where you obtained your corpus of text or what it is about. There are many lists of common stopwords available for you to use, both for general documents and for specific contexts, so you don't have to start from scratch."
   ]
  },
  {
   "cell_type": "markdown",
   "metadata": {},
   "source": [
    "We can eliminate stopwords by checking all the words in our corpus against a list of commonly occuring stopwords that comes with NLTK."
   ]
  },
  {
   "cell_type": "markdown",
   "metadata": {},
   "source": [
    "> Because ADRF is not connected to the Internet, we downloaded a list of stopwords from NLTK and manually uploaded it to the ADRF. Normally, when you have a connection to the Internet, you can just use `from nltk.corpus import stopwords` and `nltk.download('stopwords')`, to download stopwords directly."
   ]
  },
  {
   "cell_type": "code",
   "execution_count": 24,
   "metadata": {},
   "outputs": [
    {
     "data": {
      "text/plain": [
       "['a',\n",
       " 'about',\n",
       " 'above',\n",
       " 'after',\n",
       " 'again',\n",
       " 'against',\n",
       " 'ain',\n",
       " 'all',\n",
       " 'am',\n",
       " 'an',\n",
       " 'and',\n",
       " 'any',\n",
       " 'are',\n",
       " 'aren',\n",
       " \"aren't\"]"
      ]
     },
     "execution_count": 24,
     "metadata": {},
     "output_type": "execute_result"
    }
   ],
   "source": [
    "stop = pd.read_csv('stopwords.csv')\n",
    "stop = stop['stopwords'].values.tolist()\n",
    "stop[0:15]"
   ]
  },
  {
   "cell_type": "code",
   "execution_count": 25,
   "metadata": {},
   "outputs": [],
   "source": [
    "# Tokenize stop words to match \n",
    "eng_stopwords = [tokenize(s)[0] for s in stop]"
   ]
  },
  {
   "cell_type": "code",
   "execution_count": 26,
   "metadata": {},
   "outputs": [
    {
     "name": "stdout",
     "output_type": "stream",
     "text": [
      "0 cell, regul, activ, function, mechan\n",
      "1 effect, use, studi, cancer, increas\n",
      "2 infect, cell, use, immun, studi\n",
      "3 provid, core, data, develop, project\n",
      "4 research, health, studi, develop, provid\n"
     ]
    }
   ],
   "source": [
    "vectorizer = CountVectorizer(analyzer=\"word\",           # unit of features are single words rather than characters\n",
    "                            tokenizer=tokenize,         # function to create tokens\n",
    "                            ngram_range=(0,1),          # unigrams - single words\n",
    "                            strip_accents='unicode',    # remove accent characters\n",
    "                            stop_words = eng_stopwords, # remove stopwords\n",
    "                            min_df = 0.05,              # only include words with minimum frequency of 0.05\n",
    "                            max_df = 0.95)              # only include words with maximum frequency of 0.95\n",
    "\n",
    "# Creating bag of words\n",
    "bag_of_words = vectorizer.fit_transform(abstracts_list) # transform our corpus as a bag of words\n",
    "features = vectorizer.get_feature_names()               # get features (words)\n",
    "\n",
    "# Fitting LDA model\n",
    "lda = LatentDirichletAllocation(n_components = 5, learning_method='online')\n",
    "doctopic = lda.fit_transform(bag_of_words)\n",
    "\n",
    "# Displaying the top keywords in each topic\n",
    "ls_keywords = []\n",
    "for i,topic in enumerate(lda.components_):\n",
    "    word_idx = np.argsort(topic)[::-1][:5]\n",
    "    keywords = ', '.join(features[i] for i in word_idx)\n",
    "    ls_keywords.append(keywords)\n",
    "    print(i, keywords)"
   ]
  },
  {
   "cell_type": "markdown",
   "metadata": {},
   "source": [
    "### N-grams - Adding context by creating N-grams"
   ]
  },
  {
   "cell_type": "markdown",
   "metadata": {},
   "source": [
    "Obviously, reducing a document to a bag of words means losing much of its meaning - we put words in certain orders, and group words together in phrases and sentences, precisely to give  them more meaning. If you follow the processing steps we have gone through so far, splitting your document into individual words and then removing stopwords, you will completely lose all phrases like \"commander in chief\"."
   ]
  },
  {
   "cell_type": "markdown",
   "metadata": {},
   "source": [
    "One way to address this is to break down each document similarly, but rather than treating each word as an individual unit, treat each group of 2 words, or 3 words, or _n_ words, as a unit. We call is a \"bag on _n_-grams\", where _n_ is the number of words in each chunk. Then you can analyze which groups of words commonly occur together (in a fixed order)."
   ]
  },
  {
   "cell_type": "markdown",
   "metadata": {},
   "source": [
    "We will need to change the `ngram_range` variable from `(0,1)` to `(0,2)` to get the  bigrams, to `(0,3)` to get the trigrams, and so on."
   ]
  },
  {
   "cell_type": "code",
   "execution_count": null,
   "metadata": {},
   "outputs": [],
   "source": [
    "vectorizer = CountVectorizer(analyzer=\"word\",           # unit of features are single words rather than characters\n",
    "                            tokenizer=tokenize,         # function to create tokens\n",
    "                            ngram_range=(0,2),          # allow for bigrams\n",
    "                            strip_accents='unicode',    # remove accent characters\n",
    "                            stop_words = eng_stopwords, # remove stopwords\n",
    "                            min_df = 0.05,              # only include words with minimum frequency of 0.05\n",
    "                            max_df = 0.95)              # only include words with maximum frequency of 0.95"
   ]
  },
  {
   "cell_type": "markdown",
   "metadata": {},
   "source": [
    "Note that it's entirely possible to not have any bigrams or other n-grams. This just means that there aren't many very common phrases in the corpus."
   ]
  },
  {
   "cell_type": "markdown",
   "metadata": {},
   "source": [
    "## TF-IDF - Weighting terms based on frequency"
   ]
  },
  {
   "cell_type": "markdown",
   "metadata": {},
   "source": [
    "A final step in cleaning and processing our text data is **Term Frequency-Inverse Document Frequency (TF-IDF)**. TF-IDF is based on the idea that the words (or terms) that are most related to a certain topic will occur frequently in documents on that topic, and infrequently in unrelated documents. TF-IDF re-weights words so that we emphasize words that are unique to a document and suppress words that are common throughout the corpus by inversely weighting terms based on their frequency within the document and across the corpus."
   ]
  },
  {
   "cell_type": "markdown",
   "metadata": {},
   "source": [
    "We can also try adding to the stopwords list other stopwords that you think might be useful to remove in order to create more meaningful topics:"
   ]
  },
  {
   "cell_type": "code",
   "execution_count": 28,
   "metadata": {},
   "outputs": [],
   "source": [
    "stop = eng_stopwords + ['provid', 'use', 'studi']\n",
    "full_stopwords = [tokenize(s)[0] for s in stop]"
   ]
  },
  {
   "cell_type": "markdown",
   "metadata": {},
   "source": [
    "Let's look at how to use TF-IDF:"
   ]
  },
  {
   "cell_type": "code",
   "execution_count": 29,
   "metadata": {},
   "outputs": [
    {
     "name": "stdout",
     "output_type": "stream",
     "text": [
      "0 structur, imag, understand, develop, system\n",
      "1 cell, regul, signal, role, mechan\n",
      "2 brain, gene, associ, behavior, chang\n",
      "3 infect, immun, cell, host, viral\n",
      "4 research, health, train, program, core\n"
     ]
    }
   ],
   "source": [
    "vectorizer = CountVectorizer(analyzer=\"word\",            # unit of features are single words rather than characters\n",
    "                            tokenizer=tokenize,          # function to create tokens\n",
    "                            ngram_range=(0,2),           # allow for bigrams\n",
    "                            strip_accents='unicode',     # remove accent characters\n",
    "                            stop_words = full_stopwords, # remove stopwords\n",
    "                            min_df = 0.05,               # only include words with minimum frequency of 0.05\n",
    "                            max_df = 0.95)               # only include words with maximum frequency of 0.95\n",
    "\n",
    "# Creating bag of words\n",
    "bag_of_words = vectorizer.fit_transform(abstracts_list)  # transform our corpus as a bag of words\n",
    "features = vectorizer.get_feature_names()                # get features (words)\n",
    "\n",
    "# Use TfidfTransformer to re-weight bag of words\n",
    "transformer = TfidfTransformer(norm = None, smooth_idf = True, sublinear_tf = True)\n",
    "tfidf = transformer.fit_transform(bag_of_words)\n",
    "\n",
    "# Fitting LDA model\n",
    "lda = LatentDirichletAllocation(n_components = 5, learning_method='online')\n",
    "doctopic = lda.fit_transform(tfidf)\n",
    "\n",
    "# Displaying the top keywords in each topic\n",
    "ls_keywords = []\n",
    "for i,topic in enumerate(lda.components_):\n",
    "    word_idx = np.argsort(topic)[::-1][:5]\n",
    "    keywords = ', '.join(features[i] for i in word_idx)\n",
    "    ls_keywords.append(keywords)\n",
    "    print(i, keywords)"
   ]
  },
  {
   "cell_type": "code",
   "execution_count": 30,
   "metadata": {},
   "outputs": [
    {
     "data": {
      "text/plain": [
       "['structur, imag, understand, develop, system',\n",
       " 'cell, regul, signal, role, mechan',\n",
       " 'brain, gene, associ, behavior, chang',\n",
       " 'infect, immun, cell, host, viral',\n",
       " 'research, health, train, program, core']"
      ]
     },
     "execution_count": 30,
     "metadata": {},
     "output_type": "execute_result"
    }
   ],
   "source": [
    "ls_keywords"
   ]
  },
  {
   "cell_type": "code",
   "execution_count": 31,
   "metadata": {},
   "outputs": [
    {
     "data": {
      "text/html": [
       "<div>\n",
       "<style scoped>\n",
       "    .dataframe tbody tr th:only-of-type {\n",
       "        vertical-align: middle;\n",
       "    }\n",
       "\n",
       "    .dataframe tbody tr th {\n",
       "        vertical-align: top;\n",
       "    }\n",
       "\n",
       "    .dataframe thead th {\n",
       "        text-align: right;\n",
       "    }\n",
       "</style>\n",
       "<table border=\"1\" class=\"dataframe\">\n",
       "  <thead>\n",
       "    <tr style=\"text-align: right;\">\n",
       "      <th></th>\n",
       "      <th>structur, imag, understand, develop, system</th>\n",
       "      <th>cell, regul, signal, role, mechan</th>\n",
       "      <th>brain, gene, associ, behavior, chang</th>\n",
       "      <th>infect, immun, cell, host, viral</th>\n",
       "      <th>research, health, train, program, core</th>\n",
       "    </tr>\n",
       "  </thead>\n",
       "  <tbody>\n",
       "    <tr>\n",
       "      <td>0</td>\n",
       "      <td>0.856373</td>\n",
       "      <td>0.000767</td>\n",
       "      <td>0.000763</td>\n",
       "      <td>0.000765</td>\n",
       "      <td>0.141331</td>\n",
       "    </tr>\n",
       "    <tr>\n",
       "      <td>1</td>\n",
       "      <td>0.291148</td>\n",
       "      <td>0.196006</td>\n",
       "      <td>0.028662</td>\n",
       "      <td>0.483618</td>\n",
       "      <td>0.000565</td>\n",
       "    </tr>\n",
       "    <tr>\n",
       "      <td>2</td>\n",
       "      <td>0.053823</td>\n",
       "      <td>0.153774</td>\n",
       "      <td>0.000315</td>\n",
       "      <td>0.223703</td>\n",
       "      <td>0.568385</td>\n",
       "    </tr>\n",
       "    <tr>\n",
       "      <td>3</td>\n",
       "      <td>0.770337</td>\n",
       "      <td>0.226821</td>\n",
       "      <td>0.000949</td>\n",
       "      <td>0.000947</td>\n",
       "      <td>0.000947</td>\n",
       "    </tr>\n",
       "    <tr>\n",
       "      <td>4</td>\n",
       "      <td>0.089949</td>\n",
       "      <td>0.146318</td>\n",
       "      <td>0.669469</td>\n",
       "      <td>0.000707</td>\n",
       "      <td>0.093556</td>\n",
       "    </tr>\n",
       "    <tr>\n",
       "      <td>...</td>\n",
       "      <td>...</td>\n",
       "      <td>...</td>\n",
       "      <td>...</td>\n",
       "      <td>...</td>\n",
       "      <td>...</td>\n",
       "    </tr>\n",
       "    <tr>\n",
       "      <td>1995</td>\n",
       "      <td>0.000836</td>\n",
       "      <td>0.494587</td>\n",
       "      <td>0.000836</td>\n",
       "      <td>0.502911</td>\n",
       "      <td>0.000830</td>\n",
       "    </tr>\n",
       "    <tr>\n",
       "      <td>1996</td>\n",
       "      <td>0.338457</td>\n",
       "      <td>0.000945</td>\n",
       "      <td>0.587215</td>\n",
       "      <td>0.000952</td>\n",
       "      <td>0.072430</td>\n",
       "    </tr>\n",
       "    <tr>\n",
       "      <td>1997</td>\n",
       "      <td>0.000818</td>\n",
       "      <td>0.000823</td>\n",
       "      <td>0.837281</td>\n",
       "      <td>0.000816</td>\n",
       "      <td>0.160261</td>\n",
       "    </tr>\n",
       "    <tr>\n",
       "      <td>1998</td>\n",
       "      <td>0.484245</td>\n",
       "      <td>0.304822</td>\n",
       "      <td>0.166557</td>\n",
       "      <td>0.001097</td>\n",
       "      <td>0.043279</td>\n",
       "    </tr>\n",
       "    <tr>\n",
       "      <td>1999</td>\n",
       "      <td>0.000478</td>\n",
       "      <td>0.370940</td>\n",
       "      <td>0.362046</td>\n",
       "      <td>0.266057</td>\n",
       "      <td>0.000480</td>\n",
       "    </tr>\n",
       "  </tbody>\n",
       "</table>\n",
       "<p>2000 rows × 5 columns</p>\n",
       "</div>"
      ],
      "text/plain": [
       "      structur, imag, understand, develop, system  \\\n",
       "0                                        0.856373   \n",
       "1                                        0.291148   \n",
       "2                                        0.053823   \n",
       "3                                        0.770337   \n",
       "4                                        0.089949   \n",
       "...                                           ...   \n",
       "1995                                     0.000836   \n",
       "1996                                     0.338457   \n",
       "1997                                     0.000818   \n",
       "1998                                     0.484245   \n",
       "1999                                     0.000478   \n",
       "\n",
       "      cell, regul, signal, role, mechan  brain, gene, associ, behavior, chang  \\\n",
       "0                              0.000767                              0.000763   \n",
       "1                              0.196006                              0.028662   \n",
       "2                              0.153774                              0.000315   \n",
       "3                              0.226821                              0.000949   \n",
       "4                              0.146318                              0.669469   \n",
       "...                                 ...                                   ...   \n",
       "1995                           0.494587                              0.000836   \n",
       "1996                           0.000945                              0.587215   \n",
       "1997                           0.000823                              0.837281   \n",
       "1998                           0.304822                              0.166557   \n",
       "1999                           0.370940                              0.362046   \n",
       "\n",
       "      infect, immun, cell, host, viral  research, health, train, program, core  \n",
       "0                             0.000765                                0.141331  \n",
       "1                             0.483618                                0.000565  \n",
       "2                             0.223703                                0.568385  \n",
       "3                             0.000947                                0.000947  \n",
       "4                             0.000707                                0.093556  \n",
       "...                                ...                                     ...  \n",
       "1995                          0.502911                                0.000830  \n",
       "1996                          0.000952                                0.072430  \n",
       "1997                          0.000816                                0.160261  \n",
       "1998                          0.001097                                0.043279  \n",
       "1999                          0.266057                                0.000480  \n",
       "\n",
       "[2000 rows x 5 columns]"
      ]
     },
     "execution_count": 31,
     "metadata": {},
     "output_type": "execute_result"
    }
   ],
   "source": [
    "# Look at how each abstract (row) fits into each topic (column)\n",
    "pd.DataFrame(doctopic, columns = ls_keywords)"
   ]
  },
  {
   "cell_type": "markdown",
   "metadata": {},
   "source": [
    "<font color=red><h3> Checkpoint: Add other stopwords or change the number of topics</h3></font>"
   ]
  },
  {
   "cell_type": "markdown",
   "metadata": {},
   "source": [
    "To practice, you can add other stopwords that you think could be useful to remove to get more meaningful topics. You can also play around with changing the number of topics (`n_components` variable)."
   ]
  },
  {
   "cell_type": "code",
   "execution_count": null,
   "metadata": {},
   "outputs": [],
   "source": [
    "\n",
    "\n"
   ]
  },
  {
   "cell_type": "markdown",
   "metadata": {},
   "source": [
    "### Supervised Learning: Document Classification"
   ]
  },
  {
   "cell_type": "markdown",
   "metadata": {},
   "source": [
    "Topic modeling is an example of an unsupervised learning: we were looking to uncover structure in the form of topics, but we did not necessarily know the ground truth of how many topics there are."
   ]
  },
  {
   "cell_type": "markdown",
   "metadata": {},
   "source": [
    "We can also do supervised learning with text data. In supervised learning, we have a _known_ outcome or label (_Y_) that we want to produce given some data (_X_), and in general, we want to be able to produce this _Y_ when we _don't_ know it, or when we _only_ have _X_."
   ]
  },
  {
   "cell_type": "markdown",
   "metadata": {},
   "source": [
    "In order to produce labels we need to first have examples our algorithm can learn from, a \"training set\". In the context of text analysis, developing a training set can be very expensive, as it can require a large amount of human labor or linguistic expertise. **Document classification** is an example of supervised learning in which we want to characterize our documents based on their contents (_X_). A common example of document classification is spam e-mail detection. Another example of supervised learning in text analysis is _sentimenet analysis_, where _X_ is our documents and _Y_ is the state of the author. This \"state\" is dependent on the question you are trying to answer, and can range from the author being happy or unhappy with a product to the author being politically conservative or liberal. Another example is _part-of-speech tagging_ where _X_ are individual words and _Y_ is the part-of-speech."
   ]
  },
  {
   "cell_type": "markdown",
   "metadata": {},
   "source": [
    "In the context of our class, one useful application is, for example, classifying whether a text belongs to a given field of study (e.g. broad fields of study used in the SDR reporting). In order to create a text classification model, just like we did in the Machine Learning notebooks, you would need to have a training dataset with text and associated field of study label, which you can then use to train your model on and predict the label (field of study) of new, unseen, text."
   ]
  },
  {
   "cell_type": "markdown",
   "metadata": {},
   "source": [
    "### Further Resources"
   ]
  },
  {
   "cell_type": "markdown",
   "metadata": {},
   "source": [
    "Remember to review the Text Analysis chapter in the Big Data and Social Science textbook (edited by Dr. Julia Lane, Dr. Rayid Chani, Dr. Frauke Kreuter) - the link to the textbook  is uploaded on the class website.\n",
    "\n",
    "Another great resource for NLP in Python is Natural Language Processing with Python: Analyzing Text with the Natural Language Toolkit."
   ]
  },
  {
   "cell_type": "markdown",
   "metadata": {},
   "source": [
    "Some of the most popular and useful Python libraries for NLP: \n",
    "- NLTK and the associated book/tutorial (www.nltk.org/book), a good introduction to different NLP tasks.\n",
    "- TextBlob, a simplified library for various NLP tasks (noun phrase extraction, part-of-speech tagging, sentiment analysis, classification, tokenization, etc.).\n",
    "- spaCy (named entity recognition, part-of-speech tagging, dependency parsing, tokenization, etc.).\n",
    "- Stanford CoreNLP (while NLTK's emphasis is on simple reference implementations, Stanford CoreNLP is focused no fast implementations of cutting-edge algorithms, particularly for syntactic analysis, e.g. determining the subject of a sentence)."
   ]
  }
 ],
 "metadata": {
  "kernelspec": {
   "display_name": "py3-ada",
   "language": "python",
   "name": "py3-ada"
  },
  "language_info": {
   "codemirror_mode": {
    "name": "ipython",
    "version": 3
   },
   "file_extension": ".py",
   "mimetype": "text/x-python",
   "name": "python",
   "nbconvert_exporter": "python",
   "pygments_lexer": "ipython3",
   "version": "3.7.3"
  }
 },
 "nbformat": 4,
 "nbformat_minor": 4
}
